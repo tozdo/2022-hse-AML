{
  "nbformat": 4,
  "nbformat_minor": 0,
  "metadata": {
    "colab": {
      "name": "HSE-AML-HW-1-Zdorova.ipynb",
      "provenance": [],
      "collapsed_sections": [],
      "authorship_tag": "ABX9TyOp7vknZDqG0sw+sQDLDoP0",
      "include_colab_link": true
    },
    "kernelspec": {
      "name": "python3",
      "display_name": "Python 3"
    },
    "language_info": {
      "name": "python"
    }
  },
  "cells": [
    {
      "cell_type": "markdown",
      "metadata": {
        "id": "view-in-github",
        "colab_type": "text"
      },
      "source": [
        "<a href=\"https://colab.research.google.com/github/tozdo/2022-hse-AML/blob/main/HSE_AML_HW_1_Zdorova.ipynb\" target=\"_parent\"><img src=\"https://colab.research.google.com/assets/colab-badge.svg\" alt=\"Open In Colab\"/></a>"
      ]
    },
    {
      "cell_type": "code",
      "execution_count": null,
      "metadata": {
        "id": "zHibER_oLxZ2"
      },
      "outputs": [],
      "source": [
        "%matplotlib inline\n",
        "import matplotlib.pyplot as plt\n",
        "import numpy as np\n",
        "import scipy.optimize as opt\n",
        "import sklearn.linear_model\n",
        "import sklearn.model_selection\n",
        "from sklearn import metrics"
      ]
    },
    {
      "cell_type": "markdown",
      "source": [
        "According to the documentation (https://scikit-learn.org/stable/modules/generated/sklearn.datasets.fetch_20newsgroups.html), when loading 20newsgroup dataset, by default it loads 'train' data. But then we are supposed to divide this (using KFold) to train and test sets. So i decided to set parameter 'subset' to 'all' to load all the data and then divide it myself."
      ],
      "metadata": {
        "id": "t_L8nf4tBifw"
      }
    },
    {
      "cell_type": "code",
      "source": [
        "from sklearn.datasets import fetch_20newsgroups\n",
        "data = fetch_20newsgroups(subset='all', categories=['alt.atheism', 'rec.autos', 'rec.motorcycles', 'rec.sport.baseball', 'rec.sport.hockey'])"
      ],
      "metadata": {
        "id": "OOklkv7tLyUN"
      },
      "execution_count": null,
      "outputs": []
    },
    {
      "cell_type": "markdown",
      "source": [
        "Also I have decided to use only some of the categories in the dataset because it is less data and it computes faster."
      ],
      "metadata": {
        "id": "M3t8_hK_NMez"
      }
    },
    {
      "cell_type": "markdown",
      "source": [
        "Use HashingVectorizer to encode the text into sparse features:"
      ],
      "metadata": {
        "id": "K22o_wftMGZt"
      }
    },
    {
      "cell_type": "code",
      "source": [
        "from sklearn.feature_extraction.text import HashingVectorizer"
      ],
      "metadata": {
        "id": "Edje0b0599ZY"
      },
      "execution_count": null,
      "outputs": []
    },
    {
      "cell_type": "code",
      "source": [
        "\n",
        "vectorizer = HashingVectorizer(n_features=1000000, binary=True, norm=None)\n",
        "X = vectorizer.fit_transform(data['data'])"
      ],
      "metadata": {
        "id": "vZVgR0lW-KrF"
      },
      "execution_count": null,
      "outputs": []
    },
    {
      "cell_type": "markdown",
      "source": [
        "I have used 1 million as a n_features, because I think it is enough for English dictionary, and also it allows me train the model. Because in other case RAM in Google Colab is full."
      ],
      "metadata": {
        "id": "luUXps7kHQcW"
      }
    },
    {
      "cell_type": "code",
      "source": [
        "y = np.array(data['target'])"
      ],
      "metadata": {
        "id": "aSRXci5U_9EI"
      },
      "execution_count": null,
      "outputs": []
    },
    {
      "cell_type": "code",
      "source": [
        "print(X.shape, len(y))"
      ],
      "metadata": {
        "colab": {
          "base_uri": "https://localhost:8080/"
        },
        "id": "TpcgFadi_LOv",
        "outputId": "4d8571c2-85af-4c20-91da-667c009aaf8b"
      },
      "execution_count": null,
      "outputs": [
        {
          "output_type": "stream",
          "name": "stdout",
          "text": [
            "(4778, 1000000) 4778\n"
          ]
        }
      ]
    },
    {
      "cell_type": "markdown",
      "source": [
        "Use the K-Fold cross-validation to split the dataset into training and test parts:"
      ],
      "metadata": {
        "id": "qOxqiPbuE6SH"
      }
    },
    {
      "cell_type": "code",
      "source": [
        "xval = sklearn.model_selection.KFold(n_splits=3, shuffle=True, random_state=7)\n",
        "for train, test in xval.split(X):\n",
        "    X_train, X_test = X[train], X[test]\n",
        "    y_train, y_test = y[train], y[test]"
      ],
      "metadata": {
        "id": "JvDzK365yo6p"
      },
      "execution_count": null,
      "outputs": []
    },
    {
      "cell_type": "markdown",
      "source": [
        "Experiment with different models (L1, L2, ...)"
      ],
      "metadata": {
        "id": "eXVM8cyRE1be"
      }
    },
    {
      "cell_type": "markdown",
      "source": [
        "Model L1"
      ],
      "metadata": {
        "id": "0cBQrh_eHv9o"
      }
    },
    {
      "cell_type": "code",
      "source": [
        "classification_model = sklearn.linear_model.SGDClassifier(loss='log', penalty='l1');\n",
        "regression_model = sklearn.linear_model.SGDRegressor(penalty='l1');"
      ],
      "metadata": {
        "id": "AQ1DuYLj0z86"
      },
      "execution_count": null,
      "outputs": []
    },
    {
      "cell_type": "code",
      "source": [
        "classification_model.fit(X_train, y_train)\n",
        "classification_model_predictions = classification_model.predict(X_test)"
      ],
      "metadata": {
        "id": "tb0Bat98_ieq"
      },
      "execution_count": null,
      "outputs": []
    },
    {
      "cell_type": "markdown",
      "source": [
        "I will use F1 score  metric. for classification model and R2 metric for regression model, because I need to decide which model worked best, and I think these metrics are the most common."
      ],
      "metadata": {
        "id": "VQySLs7GLJza"
      }
    },
    {
      "cell_type": "code",
      "source": [
        "metrics.f1_score(classification_model_predictions, y_test, average='macro')"
      ],
      "metadata": {
        "colab": {
          "base_uri": "https://localhost:8080/"
        },
        "id": "kPtFXjpuIaBO",
        "outputId": "8824c29d-4246-4d43-a763-98fa7370e7a4"
      },
      "execution_count": null,
      "outputs": [
        {
          "output_type": "execute_result",
          "data": {
            "text/plain": [
              "0.9466292533102616"
            ]
          },
          "metadata": {},
          "execution_count": 48
        }
      ]
    },
    {
      "cell_type": "code",
      "source": [
        "regression_model.fit(X_train, y_train)\n",
        "regression_model_pred = regression_model.predict(X_test)"
      ],
      "metadata": {
        "id": "IDSxqkOlIvDb"
      },
      "execution_count": null,
      "outputs": []
    },
    {
      "cell_type": "code",
      "source": [
        "metrics.r2_score(regression_model_pred, y_test)"
      ],
      "metadata": {
        "colab": {
          "base_uri": "https://localhost:8080/"
        },
        "id": "bqroIyOfJNFd",
        "outputId": "49d72536-8331-4b12-e18e-b3960cdaf7bd"
      },
      "execution_count": null,
      "outputs": [
        {
          "output_type": "execute_result",
          "data": {
            "text/plain": [
              "0.766170172710806"
            ]
          },
          "metadata": {},
          "execution_count": 50
        }
      ]
    },
    {
      "cell_type": "markdown",
      "source": [
        "Model L2"
      ],
      "metadata": {
        "id": "pAjDu2-0H8PV"
      }
    },
    {
      "cell_type": "code",
      "source": [
        "classification_model_2 = sklearn.linear_model.SGDClassifier(loss='log', penalty='l2');\n",
        "regression_model_2 = sklearn.linear_model.SGDRegressor(penalty='l2');"
      ],
      "metadata": {
        "id": "9iHWVYWh1U82"
      },
      "execution_count": null,
      "outputs": []
    },
    {
      "cell_type": "code",
      "source": [
        "classification_model_2.fit(X_train, y_train)\n",
        "classification_model_2_pred = classification_model_2.predict(X_test)"
      ],
      "metadata": {
        "id": "1vM1DOmiKDG3"
      },
      "execution_count": null,
      "outputs": []
    },
    {
      "cell_type": "code",
      "source": [
        "metrics.f1_score(classification_model_2_pred, y_test, average='macro')"
      ],
      "metadata": {
        "colab": {
          "base_uri": "https://localhost:8080/"
        },
        "id": "b1Obq7xdKQVT",
        "outputId": "3360b60b-5952-4a91-e3f8-083d3558d6e6"
      },
      "execution_count": null,
      "outputs": [
        {
          "output_type": "execute_result",
          "data": {
            "text/plain": [
              "0.962271487376508"
            ]
          },
          "metadata": {},
          "execution_count": 53
        }
      ]
    },
    {
      "cell_type": "code",
      "source": [
        "regression_model_2.fit(X_train, y_train)\n",
        "regression_model_2_pred = regression_model_2.predict(X_test)"
      ],
      "metadata": {
        "id": "b-N8SuxyKT7t"
      },
      "execution_count": null,
      "outputs": []
    },
    {
      "cell_type": "code",
      "source": [
        "metrics.r2_score(regression_model_2_pred, y_test)"
      ],
      "metadata": {
        "colab": {
          "base_uri": "https://localhost:8080/"
        },
        "id": "NXkMlYMyKe8a",
        "outputId": "b0c91191-697a-4bd1-c19e-77ff465f7ee0"
      },
      "execution_count": null,
      "outputs": [
        {
          "output_type": "execute_result",
          "data": {
            "text/plain": [
              "0.7733005189512924"
            ]
          },
          "metadata": {},
          "execution_count": 55
        }
      ]
    },
    {
      "cell_type": "markdown",
      "source": [
        "Model L1+L2"
      ],
      "metadata": {
        "id": "pBeyKRjSH-Sg"
      }
    },
    {
      "cell_type": "code",
      "source": [
        "regression_model_3 = sklearn.linear_model.SGDRegressor(penalty='elasticnet')"
      ],
      "metadata": {
        "id": "5V5AyWGw1VYf"
      },
      "execution_count": null,
      "outputs": []
    },
    {
      "cell_type": "code",
      "source": [
        "regression_model_3.fit(X_train, y_train)\n",
        "regression_model_3_pred = regression_model_3.predict(X_test)"
      ],
      "metadata": {
        "id": "qCCNUgykKmFE"
      },
      "execution_count": null,
      "outputs": []
    },
    {
      "cell_type": "code",
      "source": [
        "metrics.r2_score(regression_model_3_pred, y_test)"
      ],
      "metadata": {
        "id": "LMtEhzCQL95F",
        "colab": {
          "base_uri": "https://localhost:8080/"
        },
        "outputId": "5bde8337-59fa-4568-b970-a437a25e8c85"
      },
      "execution_count": null,
      "outputs": [
        {
          "output_type": "execute_result",
          "data": {
            "text/plain": [
              "0.7736471560762849"
            ]
          },
          "metadata": {},
          "execution_count": 58
        }
      ]
    },
    {
      "cell_type": "markdown",
      "source": [
        "\n",
        "What model worked best?"
      ],
      "metadata": {
        "id": "hDYnAbgEFAkr"
      }
    },
    {
      "cell_type": "markdown",
      "source": [
        "According to metrics result, L2 model worked the best. I guess this is because we do not have useless features and every one is bettering the perfomance of the model."
      ],
      "metadata": {
        "id": "9VVnjETnLedL"
      }
    }
  ]
}